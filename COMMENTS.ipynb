{
 "cells": [
  {
   "cell_type": "code",
   "execution_count": 1,
   "id": "f45e4d8c",
   "metadata": {},
   "outputs": [
    {
     "name": "stdout",
     "output_type": "stream",
     "text": [
      "techknow kannada\n"
     ]
    }
   ],
   "source": [
    "print(\"techknow kannada\")"
   ]
  },
  {
   "cell_type": "markdown",
   "id": "5700be82",
   "metadata": {},
   "source": [
    "# COMMENTS"
   ]
  },
  {
   "cell_type": "markdown",
   "id": "408bf9aa",
   "metadata": {},
   "source": [
    "## SUB HEADING"
   ]
  },
  {
   "cell_type": "markdown",
   "id": "afe56a3a",
   "metadata": {},
   "source": [
    "### LITTLE"
   ]
  },
  {
   "cell_type": "code",
   "execution_count": null,
   "id": "4756f75e",
   "metadata": {},
   "outputs": [],
   "source": []
  },
  {
   "cell_type": "code",
   "execution_count": 2,
   "id": "adf42653",
   "metadata": {},
   "outputs": [
    {
     "name": "stdout",
     "output_type": "stream",
     "text": [
      "3\n"
     ]
    }
   ],
   "source": [
    "#ADDITION\n",
    "a=1\n",
    "b=2\n",
    "c=a+b\n",
    "print(c)"
   ]
  },
  {
   "cell_type": "code",
   "execution_count": null,
   "id": "bf98bcaa",
   "metadata": {},
   "outputs": [],
   "source": []
  },
  {
   "cell_type": "code",
   "execution_count": null,
   "id": "ea22c545",
   "metadata": {},
   "outputs": [],
   "source": []
  },
  {
   "cell_type": "code",
   "execution_count": 3,
   "id": "96fbd633",
   "metadata": {},
   "outputs": [
    {
     "name": "stdout",
     "output_type": "stream",
     "text": [
      " #techknow kannada# \n"
     ]
    }
   ],
   "source": [
    "print(\" #techknow kannada# \")"
   ]
  },
  {
   "cell_type": "code",
   "execution_count": 4,
   "id": "a11fcdf6",
   "metadata": {},
   "outputs": [
    {
     "data": {
      "text/plain": [
       "0.5"
      ]
     },
     "execution_count": 4,
     "metadata": {},
     "output_type": "execute_result"
    }
   ],
   "source": [
    "a/b                   #division"
   ]
  },
  {
   "cell_type": "code",
   "execution_count": 5,
   "id": "f4fae619",
   "metadata": {},
   "outputs": [],
   "source": [
    "#welcome to techkonw kannada youtube channel\n",
    "#subscribe all"
   ]
  },
  {
   "cell_type": "code",
   "execution_count": 6,
   "id": "10ebfa87",
   "metadata": {},
   "outputs": [],
   "source": [
    "#welcome to techkonw kannada youtube channel\n",
    "#subscribe all"
   ]
  },
  {
   "cell_type": "markdown",
   "id": "57368f24",
   "metadata": {},
   "source": [
    "# DOCSTRING"
   ]
  },
  {
   "cell_type": "code",
   "execution_count": 7,
   "id": "562da708",
   "metadata": {},
   "outputs": [
    {
     "name": "stdout",
     "output_type": "stream",
     "text": [
      "3\n"
     ]
    }
   ],
   "source": [
    "'''welcome to techkonw kannada youtube channel\n",
    "subscribe all'''\n",
    "a=1\n",
    "b=2\n",
    "c=a+b\n",
    "print(c)"
   ]
  },
  {
   "cell_type": "code",
   "execution_count": 8,
   "id": "38d5f18e",
   "metadata": {},
   "outputs": [
    {
     "name": "stdout",
     "output_type": "stream",
     "text": [
      "3\n"
     ]
    },
    {
     "data": {
      "text/plain": [
       "'welcome to techkonw kannada youtube channel\\nsubscribe all'"
      ]
     },
     "execution_count": 8,
     "metadata": {},
     "output_type": "execute_result"
    }
   ],
   "source": [
    "a=1\n",
    "b=2\n",
    "c=a+b\n",
    "print(c)\n",
    "'''welcome to techkonw kannada youtube channel\n",
    "subscribe all'''"
   ]
  },
  {
   "cell_type": "code",
   "execution_count": 9,
   "id": "4a87bc8b",
   "metadata": {},
   "outputs": [
    {
     "data": {
      "text/plain": [
       "'welcome to techkonw kannada youtube channel\\nsubscribe all'"
      ]
     },
     "execution_count": 9,
     "metadata": {},
     "output_type": "execute_result"
    }
   ],
   "source": [
    "'''welcome to techkonw kannada youtube channel\n",
    "subscribe all'''"
   ]
  },
  {
   "cell_type": "code",
   "execution_count": null,
   "id": "649596d5",
   "metadata": {},
   "outputs": [],
   "source": []
  }
 ],
 "metadata": {
  "kernelspec": {
   "display_name": "Python 3 (ipykernel)",
   "language": "python",
   "name": "python3"
  },
  "language_info": {
   "codemirror_mode": {
    "name": "ipython",
    "version": 3
   },
   "file_extension": ".py",
   "mimetype": "text/x-python",
   "name": "python",
   "nbconvert_exporter": "python",
   "pygments_lexer": "ipython3",
   "version": "3.9.12"
  }
 },
 "nbformat": 4,
 "nbformat_minor": 5
}
