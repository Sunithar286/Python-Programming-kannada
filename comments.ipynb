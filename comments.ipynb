{
 "cells": [
  {
   "cell_type": "code",
   "execution_count": 2,
   "id": "c2f2d797",
   "metadata": {},
   "outputs": [
    {
     "name": "stdout",
     "output_type": "stream",
     "text": [
      "techknow kannada\n"
     ]
    }
   ],
   "source": [
    "print(\"techknow kannada\")"
   ]
  },
  {
   "cell_type": "code",
   "execution_count": 4,
   "id": "9d2785de",
   "metadata": {},
   "outputs": [
    {
     "name": "stdout",
     "output_type": "stream",
     "text": [
      "5\n"
     ]
    }
   ],
   "source": [
    "print(5)"
   ]
  },
  {
   "cell_type": "code",
   "execution_count": 6,
   "id": "cf478bef",
   "metadata": {},
   "outputs": [
    {
     "name": "stdout",
     "output_type": "stream",
     "text": [
      "#sunitha#\n"
     ]
    }
   ],
   "source": [
    "print(\"#sunitha#\") #its print command"
   ]
  },
  {
   "cell_type": "code",
   "execution_count": 10,
   "id": "3d1f1a75",
   "metadata": {},
   "outputs": [
    {
     "name": "stdout",
     "output_type": "stream",
     "text": [
      "3\n"
     ]
    }
   ],
   "source": [
    "#addition\n",
    "a=1\n",
    "b=2\n",
    "c=a+b\n",
    "print(c)"
   ]
  },
  {
   "cell_type": "code",
   "execution_count": 11,
   "id": "0672dca3",
   "metadata": {},
   "outputs": [],
   "source": [
    "#welcome to techkonw kannada youtube channel\n",
    "#subscribe all"
   ]
  },
  {
   "cell_type": "code",
   "execution_count": 12,
   "id": "0e1f08b8",
   "metadata": {},
   "outputs": [],
   "source": [
    "#welcome to techkonw kannada youtube channel\n",
    "#subscribe all"
   ]
  },
  {
   "cell_type": "code",
   "execution_count": 13,
   "id": "9a7ca5f3",
   "metadata": {},
   "outputs": [
    {
     "data": {
      "text/plain": [
       "'\\nwelcome to techkonw kannada youtube channel\\nsubscribe all\\n'"
      ]
     },
     "execution_count": 13,
     "metadata": {},
     "output_type": "execute_result"
    }
   ],
   "source": [
    "'''\n",
    "welcome to techkonw kannada youtube channel\n",
    "subscribe all\n",
    "'''"
   ]
  },
  {
   "cell_type": "code",
   "execution_count": 14,
   "id": "ecf57bcd",
   "metadata": {},
   "outputs": [
    {
     "name": "stdout",
     "output_type": "stream",
     "text": [
      "3\n"
     ]
    }
   ],
   "source": [
    "'''\n",
    "welcome to techkonw kannada youtube channel\n",
    "subscribe all\n",
    "'''\n",
    "a=1\n",
    "b=2\n",
    "c=a+b\n",
    "print(c)"
   ]
  },
  {
   "cell_type": "code",
   "execution_count": 15,
   "id": "2d45213f",
   "metadata": {},
   "outputs": [
    {
     "name": "stdout",
     "output_type": "stream",
     "text": [
      "3\n"
     ]
    },
    {
     "data": {
      "text/plain": [
       "'\\nwelcome to techkonw kannada youtube channel\\nsubscribe all\\n'"
      ]
     },
     "execution_count": 15,
     "metadata": {},
     "output_type": "execute_result"
    }
   ],
   "source": [
    "a=1\n",
    "b=2\n",
    "c=a+b\n",
    "print(c)\n",
    "'''\n",
    "welcome to techkonw kannada youtube channel\n",
    "subscribe all\n",
    "'''"
   ]
  },
  {
   "cell_type": "markdown",
   "id": "dd690ae9",
   "metadata": {},
   "source": [
    "# Comments"
   ]
  },
  {
   "cell_type": "markdown",
   "id": "1be1a4d9",
   "metadata": {},
   "source": [
    "## sub heading"
   ]
  },
  {
   "cell_type": "markdown",
   "id": "665e59d7",
   "metadata": {},
   "source": [
    "#### small heading"
   ]
  },
  {
   "cell_type": "code",
   "execution_count": null,
   "id": "dc2e665a",
   "metadata": {},
   "outputs": [],
   "source": []
  }
 ],
 "metadata": {
  "kernelspec": {
   "display_name": "Python 3 (ipykernel)",
   "language": "python",
   "name": "python3"
  },
  "language_info": {
   "codemirror_mode": {
    "name": "ipython",
    "version": 3
   },
   "file_extension": ".py",
   "mimetype": "text/x-python",
   "name": "python",
   "nbconvert_exporter": "python",
   "pygments_lexer": "ipython3",
   "version": "3.9.12"
  }
 },
 "nbformat": 4,
 "nbformat_minor": 5
}
